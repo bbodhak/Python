{
  "nbformat": 4,
  "nbformat_minor": 0,
  "metadata": {
    "colab": {
      "name": "Ineuron_Ass_gn_4.ipynb",
      "provenance": [],
      "collapsed_sections": [],
      "authorship_tag": "ABX9TyMzUEwU12neu/wSsiPIgTn7",
      "include_colab_link": true
    },
    "kernelspec": {
      "name": "python3",
      "display_name": "Python 3"
    }
  },
  "cells": [
    {
      "cell_type": "markdown",
      "metadata": {
        "id": "view-in-github",
        "colab_type": "text"
      },
      "source": [
        "<a href=\"https://colab.research.google.com/github/bbodhak/Python/blob/master/Ineuron_Ass_gn_4.ipynb\" target=\"_parent\"><img src=\"https://colab.research.google.com/assets/colab-badge.svg\" alt=\"Open In Colab\"/></a>"
      ]
    },
    {
      "cell_type": "markdown",
      "metadata": {
        "id": "r3vEpe00qylq",
        "colab_type": "text"
      },
      "source": [
        "1.1 Write a Python Program(with class concepts) to find the area of the triangle using the below\n",
        "formula.\n",
        "area = (s*(s-a)*(s-b)*(s-c)) ** 0.5\n",
        "Function to take the length of the sides of triangle from user should be defined in the parent\n",
        "class and function to calculate the area should be defined in subclass."
      ]
    },
    {
      "cell_type": "code",
      "metadata": {
        "id": "qRNRGA1iy4UJ",
        "colab_type": "code",
        "colab": {
          "base_uri": "https://localhost:8080/",
          "height": 85
        },
        "outputId": "deb9f69c-7427-4048-d4a9-6aebe94ce4be"
      },
      "source": [
        "#Example code\n",
        "# area = (s*(s-a)*(s-b)*(s-c)) ** 0.5\n",
        "class formula:\n",
        "    def __init__(hit,a,b,c):#hit is akey word taken\n",
        "        hit.a = float(a)\n",
        "        hit.b = float(b)\n",
        "        hit.c = float(c)\n",
        "a= int(input(\"Enter value of a: \"))\n",
        "b= int(input(\"Enter value of b: \"))\n",
        "c= int(input(\"Enter value of c: \"))\n",
        "\n",
        "class triangle(formula):\n",
        "    def __init__(hit,*args):#Getting all arguments from formula class\n",
        "        super().__init__(a,b,c)\n",
        "\n",
        "    def area(hit):#formula of triangle\n",
        "        s = (a + b + c) / 2\n",
        "        return (s*(s-a)*(s-b)*(s-c)) ** 0.5        \n",
        "\n",
        "area_of_triangle = triangle(a,b,c)\n",
        "print(\"Area of a triangle : {}\".format(area_of_triangle.area()))"
      ],
      "execution_count": 14,
      "outputs": [
        {
          "output_type": "stream",
          "text": [
            "Enter value of a: 4\n",
            "Enter value of b: 5\n",
            "Enter value of c: 6\n",
            "Area of a triangle : 9.921567416492215\n"
          ],
          "name": "stdout"
        }
      ]
    },
    {
      "cell_type": "markdown",
      "metadata": {
        "id": "Mr1iAncuq1YV",
        "colab_type": "text"
      },
      "source": [
        "1.2 Write a function filter_long_words() that takes a list of words and an integer n and returns\n",
        "the list of words that are longer than n."
      ]
    },
    {
      "cell_type": "code",
      "metadata": {
        "id": "7XQNZBWFPEO3",
        "colab_type": "code",
        "colab": {
          "base_uri": "https://localhost:8080/",
          "height": 34
        },
        "outputId": "13c9c47f-18c7-4499-a744-566582da5863"
      },
      "source": [
        "def filter_long_words(n, str) :\n",
        "  wordlength = []\n",
        "  word = str.split(\" \")\n",
        "  for i in word :\n",
        "    if len(i) > n :\n",
        "      wordlength.append(i)\n",
        "  return wordlength\n",
        "\n",
        "filter_long_words(5, \"Tajmahal is beautiful, but I prefer looking at the Himalayas instead.\")\n",
        "\n"
      ],
      "execution_count": 17,
      "outputs": [
        {
          "output_type": "execute_result",
          "data": {
            "text/plain": [
              "['Tajmahal', 'beautiful,', 'prefer', 'looking', 'Himalayas', 'instead.']"
            ]
          },
          "metadata": {
            "tags": []
          },
          "execution_count": 17
        }
      ]
    },
    {
      "cell_type": "markdown",
      "metadata": {
        "id": "lX2l6DzZs6Tj",
        "colab_type": "text"
      },
      "source": [
        "2.1 Write a Python program using function concept that maps list of words into a list of integers\n",
        "representing the lengths of the corresponding words.\n",
        "Hint: If a list [ ab,cde,erty] is passed on to the python function output should come as [2,3,4]\n",
        "Here 2,3 and 4 are the lengths of the words in the list."
      ]
    },
    {
      "cell_type": "code",
      "metadata": {
        "id": "-YnrwSZosu42",
        "colab_type": "code",
        "colab": {
          "base_uri": "https://localhost:8080/",
          "height": 34
        },
        "outputId": "170f2465-7ef2-43ce-cb79-9da3d72308fc"
      },
      "source": [
        "def num_list(word_list) :\n",
        "  num_list = [len(i) for i in word_list]\n",
        "  return num_list\n",
        "\n",
        "# word_list\n",
        "num_list([\"Barun\",\"went\",\"to\",\"switzerland\"])"
      ],
      "execution_count": 22,
      "outputs": [
        {
          "output_type": "execute_result",
          "data": {
            "text/plain": [
              "[5, 4, 2, 11]"
            ]
          },
          "metadata": {
            "tags": []
          },
          "execution_count": 22
        }
      ]
    },
    {
      "cell_type": "markdown",
      "metadata": {
        "id": "--1uKvU5v3ma",
        "colab_type": "text"
      },
      "source": [
        "2.2 Write a Python function which takes a character (i.e. a string of length 1) and returns True if\n",
        "it is a vowel, False otherwise."
      ]
    },
    {
      "cell_type": "code",
      "metadata": {
        "id": "H906T43tv4Y6",
        "colab_type": "code",
        "colab": {
          "base_uri": "https://localhost:8080/",
          "height": 51
        },
        "outputId": "01188d6e-0f14-423d-ea2f-c921cb4c8415"
      },
      "source": [
        "def is_vowel(str) :\n",
        "  vowel_list = [\"a\",\"e\",\"i\",\"o\",\"u\"]\n",
        "  alpha_input = input(\"Enter an alphabet: \")\n",
        "  if alpha_input in vowel_list :\n",
        "    return True\n",
        "  else:\n",
        "    return False\n",
        "\n",
        "is_vowel(str)"
      ],
      "execution_count": 31,
      "outputs": [
        {
          "output_type": "stream",
          "text": [
            "Enter an alphabet: u\n"
          ],
          "name": "stdout"
        },
        {
          "output_type": "execute_result",
          "data": {
            "text/plain": [
              "True"
            ]
          },
          "metadata": {
            "tags": []
          },
          "execution_count": 31
        }
      ]
    },
    {
      "cell_type": "code",
      "metadata": {
        "id": "Mt-4hVvRxNWk",
        "colab_type": "code",
        "colab": {}
      },
      "source": [
        ""
      ],
      "execution_count": null,
      "outputs": []
    }
  ]
}