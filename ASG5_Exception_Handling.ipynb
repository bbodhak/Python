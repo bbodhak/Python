{
  "nbformat": 4,
  "nbformat_minor": 0,
  "metadata": {
    "colab": {
      "name": "ASG5_Exception_Handling.ipynb",
      "provenance": [],
      "collapsed_sections": [],
      "authorship_tag": "ABX9TyOJdmonGxh8jiLwXgcsCLDF",
      "include_colab_link": true
    },
    "kernelspec": {
      "name": "python3",
      "display_name": "Python 3"
    }
  },
  "cells": [
    {
      "cell_type": "markdown",
      "metadata": {
        "id": "view-in-github",
        "colab_type": "text"
      },
      "source": [
        "<a href=\"https://colab.research.google.com/github/bbodhak/Python/blob/master/ASG5_Exception_Handling.ipynb\" target=\"_parent\"><img src=\"https://colab.research.google.com/assets/colab-badge.svg\" alt=\"Open In Colab\"/></a>"
      ]
    },
    {
      "cell_type": "markdown",
      "metadata": {
        "id": "_cg4Qk4vJP2M",
        "colab_type": "text"
      },
      "source": [
        "1. Write a function to compute 5/0 and use try/except to catch the exceptions."
      ]
    },
    {
      "cell_type": "code",
      "metadata": {
        "id": "XF4EYgVFKTHJ",
        "colab_type": "code",
        "colab": {
          "base_uri": "https://localhost:8080/",
          "height": 51
        },
        "outputId": "d5d79f14-da8e-4b0f-c5bf-d3896b45b10f"
      },
      "source": [
        "def func_divide(a,b) :\n",
        "  try:\n",
        "      a/b\n",
        "  except ZeroDivisionError as Yo:\n",
        "      print(\"Elementary, My Dear Watson, why divide by 0 ?\")\n",
        "      print(\"You are better than this,\",Yo, \"not possible in Python\")\n",
        "\n",
        "func_divide(5,0)"
      ],
      "execution_count": 7,
      "outputs": [
        {
          "output_type": "stream",
          "text": [
            "Elementary, My Dear Watson, why divide by 0 ?\n",
            "You are better than this, division by zero not possible in Python\n"
          ],
          "name": "stdout"
        }
      ]
    },
    {
      "cell_type": "code",
      "metadata": {
        "id": "VnzbLtcwLFqG",
        "colab_type": "code",
        "colab": {
          "base_uri": "https://localhost:8080/",
          "height": 153
        },
        "outputId": "1b4ef09d-cfd1-4e74-8f35-795aab66d365"
      },
      "source": [
        "'''\n",
        "2. Implement a Python program to generate all sentences where subject is in\n",
        "[\"Americans\", \"Indians\"] and verb is in [\"Play\", \"watch\"] and the object is in\n",
        "[\"Baseball\",\"cricket\"].\n",
        "Hint: Subject,Verb and Object should be declared in the program as shown below.\n",
        "subjects=[\"Americans \",\"Indians\"]\n",
        "verbs=[\"play\",\"watch\"]\n",
        "objects=[\"Baseball\",\"Cricket\"]\n",
        "Output should come as below:\n",
        "Americans play Baseball.\n",
        "Americans play Cricket.\n",
        "Americans watch Baseball.\n",
        "Americans watch Cricket.\n",
        "Indians play Baseball.\n",
        "Indians play Cricket.\n",
        "Indians watch Baseball.\n",
        "Indians watch Cricket.\n",
        "'''\n",
        "subject = [\"Americans\", \"Indians\"]\n",
        "verb = [\"Play\", \"watch\"]\n",
        "objects = [\"Baseball\",\"cricket\"]\n",
        "\n",
        "for sub in subject :\n",
        "  # print(sub)\n",
        "  for vb in verb :\n",
        "    # print(sub)\n",
        "    # print(verb)\n",
        "    for game in objects :\n",
        "      # print(game)\n",
        "      print(sub, vb, game)"
      ],
      "execution_count": 19,
      "outputs": [
        {
          "output_type": "stream",
          "text": [
            "Americans Play Baseball\n",
            "Americans Play cricket\n",
            "Americans watch Baseball\n",
            "Americans watch cricket\n",
            "Indians Play Baseball\n",
            "Indians Play cricket\n",
            "Indians watch Baseball\n",
            "Indians watch cricket\n"
          ],
          "name": "stdout"
        }
      ]
    }
  ]
}